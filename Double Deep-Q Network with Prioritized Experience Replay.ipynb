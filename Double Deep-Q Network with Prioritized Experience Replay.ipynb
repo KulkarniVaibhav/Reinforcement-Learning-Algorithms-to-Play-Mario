{
 "cells": [
  {
   "cell_type": "code",
   "execution_count": null,
   "metadata": {
    "id": "7Xemot0svzZC"
   },
   "outputs": [],
   "source": [
    "%tensorflow_version 1\n",
    "import tensorflow\n",
    "print(tensorflow.__version__)\n",
    "# Check which GPU was allocated by Colab\n",
    "from tensorflow.python.client import device_lib\n",
    "print(device_lib.list_local_devices())\n",
    "# Check CUDA Version\n",
    "!nvcc --version"
   ]
  },
  {
   "cell_type": "code",
   "execution_count": null,
   "metadata": {
    "id": "RhxT8esCwh9O"
   },
   "outputs": [],
   "source": [
    "# Requirements for displaying the video after train\n",
    "!pip install gym pyvirtualdisplay > /dev/null 2>&1\n",
    "!apt-get install -y xvfb python-opengl ffmpeg > /dev/null 2>&1"
   ]
  },
  {
   "cell_type": "code",
   "execution_count": null,
   "metadata": {
    "id": "xtr6eLl14_9a"
   },
   "outputs": [],
   "source": [
    "# Requirements to train RL Model and environments\n",
    "!pip install gym_super_mario_bros==7.3.0 nes_py\n",
    "!pip install stable_baselines==2.10.2"
   ]
  },
  {
   "cell_type": "code",
   "execution_count": null,
   "metadata": {
    "id": "ne2_WFAhbEaE"
   },
   "outputs": [],
   "source": [
    "# Displaying the video\n",
    "from gym.wrappers import Monitor\n",
    "import glob\n",
    "import io\n",
    "import base64\n",
    "from IPython.display import HTML\n",
    "from pyvirtualdisplay import Display\n",
    "from IPython import display as ipythondisplay\n",
    "\n",
    "display = Display(visible=0, size=(1400, 900))\n",
    "display.start()\n",
    "\n",
    "def show_video():\n",
    "  mp4list = glob.glob('video/*.mp4')\n",
    "  if len(mp4list) > 0:\n",
    "    mp4 = mp4list[0]\n",
    "    video = io.open(mp4, 'r+b').read()\n",
    "    encoded = base64.b64encode(video)\n",
    "    ipythondisplay.display(HTML(data='''<video alt=\"test\" autoplay \n",
    "                loop controls style=\"height: 400px;\">\n",
    "                <source src=\"data:video/mp4;base64,{0}\" type=\"video/mp4\" />\n",
    "             </video>'''.format(encoded.decode('ascii'))))\n",
    "  else: \n",
    "    print(\"Could not find video\")\n",
    "\n",
    "def wrap_env(env):\n",
    "  env = Monitor(env, './video', force=True)\n",
    "  return env"
   ]
  },
  {
   "cell_type": "code",
   "execution_count": null,
   "metadata": {
    "id": "qA6BTOtT7OD5"
   },
   "outputs": [],
   "source": [
    "#Importing Dependencies\n",
    "import os\n",
    "import gym_super_mario_bros\n",
    "from nes_py.wrappers import JoypadSpace\n",
    "from gym_super_mario_bros.actions import SIMPLE_MOVEMENT\n",
    "from stable_baselines.bench import Monitor as Monitor1\n",
    "from stable_baselines.common.atari_wrappers import FrameStack, WarpFrame, MaxAndSkipEnv, EpisodicLifeEnv\n",
    "from stable_baselines.common.callbacks import CallbackList, EvalCallback, CheckpointCallback\n",
    "from stable_baselines.deepq.policies import LnCnnPolicy\n",
    "from stable_baselines import DQN\n",
    "from matplotlib import pyplot as plt"
   ]
  },
  {
   "cell_type": "code",
   "execution_count": null,
   "metadata": {
    "id": "6sJmsGChM3Y-"
   },
   "outputs": [],
   "source": [
    "# Preprocessing\n",
    "log_dir = \"./monitor_logs/\"\n",
    "env = gym_super_mario_bros.make('SuperMarioBros-v0') # Creating Mario Environment\n",
    "env = JoypadSpace(env, SIMPLE_MOVEMENT) # Restricting controls to Simple Movement\n",
    "env = WarpFrame(env) # Changing frame to grayscale\n",
    "env = FrameStack(env, n_frames=4)\n",
    "env = MaxAndSkipEnv(env, skip=4)\n",
    "env = Monitor1(env,log_dir)"
   ]
  },
  {
   "cell_type": "code",
   "execution_count": null,
   "metadata": {
    "id": "TnGwPvdpVnHB"
   },
   "outputs": [],
   "source": [
    "# Callbacks\n",
    "run_name = \"DQN_Model\"\n",
    "checkpoint_callback = CheckpointCallback(save_freq=10000, save_path='./models/', name_prefix=run_name)\n",
    "eval_callback = EvalCallback(env, best_model_save_path='./models/', log_path='./models/', eval_freq=10000, deterministic=True, render=False)"
   ]
  },
  {
   "cell_type": "code",
   "execution_count": null,
   "metadata": {
    "id": "gH4d5Eq2o62c"
   },
   "outputs": [],
   "source": [
    "# Create the model\n",
    "model = DQN(LnCnnPolicy, \n",
    "            env, \n",
    "            batch_size=512,\n",
    "            learning_starts=10000, \n",
    "            learning_rate=0.0001, \n",
    "            exploration_fraction=0.1, \n",
    "            exploration_initial_eps=1.0, \n",
    "            exploration_final_eps=0.1,\n",
    "            prioritized_replay=True,\n",
    "            prioritized_replay_alpha=0.6,\n",
    "            double_q=True,\n",
    "            tensorboard_log=\"./mario_tensorboard/\")"
   ]
  },
  {
   "cell_type": "code",
   "execution_count": null,
   "metadata": {
    "colab": {
     "background_save": true
    },
    "id": "KB-AZvoopPT3"
   },
   "outputs": [],
   "source": [
    "# Train the model\n",
    "model.learn(total_timesteps=50000, callback=[checkpoint_callback, eval_callback])"
   ]
  },
  {
   "cell_type": "code",
   "execution_count": null,
   "metadata": {
    "id": "fAjmDA7FpaED"
   },
   "outputs": [],
   "source": [
    "# Save the model\n",
    "model.save('DQN_BestModel')"
   ]
  },
  {
   "cell_type": "code",
   "execution_count": null,
   "metadata": {
    "id": "m78TbA4KpvCC"
   },
   "outputs": [],
   "source": [
    "# Test the model\n",
    "model = DQN.load('./DQN_BestModel')\n",
    "env = wrap_env(gym_super_mario_bros.make('SuperMarioBros-v0'))\n",
    "env = JoypadSpace(env, SIMPLE_MOVEMENT)\n",
    "env = WarpFrame(env) # Changing frame to grayscale\n",
    "env = FrameStack(env, n_frames=4)\n",
    "env = MaxAndSkipEnv(env, skip=4)\n",
    "env = Monitor1(env,log_dir)\n",
    "\n",
    "state = env.reset()\n",
    "for step in range(100000):\n",
    "  action,_ = model.predict(state)\n",
    "  state,reward, done, info = env.step(action)\n",
    "  #env.render()\n",
    "env.close()\n",
    "show_video()"
   ]
  },
  {
   "cell_type": "code",
   "execution_count": null,
   "metadata": {
    "id": "abYkOlN93fZD"
   },
   "outputs": [],
   "source": [
    "%load_ext tensorboard"
   ]
  },
  {
   "cell_type": "code",
   "execution_count": null,
   "metadata": {
    "id": "Wes7v9RPalK8"
   },
   "outputs": [],
   "source": [
    "%tensorboard --logdir ./mario_tensorboard/"
   ]
  },
  {
   "cell_type": "code",
   "execution_count": null,
   "metadata": {
    "id": "rYOQALUFaqza"
   },
   "outputs": [],
   "source": [
    "from stable_baselines3.common import results_plotter\n",
    "results_plotter.plot_results([log_dir], 50000, results_plotter.X_TIMESTEPS, \"Rewards over episodes\")"
   ]
  },
  {
   "cell_type": "code",
   "execution_count": null,
   "metadata": {
    "id": "0PNj8eCKcCwh"
   },
   "outputs": [],
   "source": []
  }
 ],
 "metadata": {
  "accelerator": "GPU",
  "colab": {
   "name": "DQN.ipynb",
   "provenance": []
  },
  "kernelspec": {
   "display_name": "Python 3 (ipykernel)",
   "language": "python",
   "name": "python3"
  },
  "language_info": {
   "codemirror_mode": {
    "name": "ipython",
    "version": 3
   },
   "file_extension": ".py",
   "mimetype": "text/x-python",
   "name": "python",
   "nbconvert_exporter": "python",
   "pygments_lexer": "ipython3",
   "version": "3.9.7"
  }
 },
 "nbformat": 4,
 "nbformat_minor": 1
}
